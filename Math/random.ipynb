{
 "cells": [
  {
   "attachments": {},
   "cell_type": "markdown",
   "metadata": {},
   "source": [
    "Импорт модуля random"
   ]
  },
  {
   "cell_type": "code",
   "execution_count": 1,
   "metadata": {},
   "outputs": [],
   "source": [
    "import random"
   ]
  },
  {
   "attachments": {},
   "cell_type": "markdown",
   "metadata": {},
   "source": [
    "Функция random.seed() инициализирует генератор или по другому - задает его начальное состояние.\n",
    "Данный метод очень удобен для воспроизводимости результатов, т.е. после инициализации одним и тем же значением a, вы будете наблюдать одни и те же случайные данные. Например если важно, что бы кто-то мог воспроизвести мои результаты на своем компьютере, то нужно обязательно указать в примере кода начальное состояние"
   ]
  },
  {
   "cell_type": "code",
   "execution_count": 2,
   "metadata": {},
   "outputs": [
    {
     "data": {
      "text/plain": [
       "[59, 78, 47, 34, 17, 23, 86, 0, 43, 64]"
      ]
     },
     "execution_count": 2,
     "metadata": {},
     "output_type": "execute_result"
    }
   ],
   "source": [
    "random.seed(9)\n",
    "[random.randint(0, 100) for i in range(10)]"
   ]
  },
  {
   "attachments": {},
   "cell_type": "markdown",
   "metadata": {},
   "source": [
    "Если инициализировать генератор с тем же самым значением, то увидим тот же самый результат его работы"
   ]
  },
  {
   "cell_type": "code",
   "execution_count": 3,
   "metadata": {},
   "outputs": [
    {
     "data": {
      "text/plain": [
       "[59, 78, 47, 34, 17, 23, 86, 0, 43, 64]"
      ]
     },
     "execution_count": 3,
     "metadata": {},
     "output_type": "execute_result"
    }
   ],
   "source": [
    "random.seed(9)\n",
    "[random.randint(0, 100) for i in range(10)]"
   ]
  },
  {
   "attachments": {},
   "cell_type": "markdown",
   "metadata": {},
   "source": [
    "Функция random.getstate() возвращает кортеж с параметрами внутреннего состояния генератора, который может быть использован для воссоздания этого состояния.\n",
    "Возвращаемый кортеж очень большой"
   ]
  },
  {
   "cell_type": "code",
   "execution_count": 4,
   "metadata": {},
   "outputs": [],
   "source": [
    "#state = random.getstate()\n",
    "#state"
   ]
  },
  {
   "attachments": {},
   "cell_type": "markdown",
   "metadata": {},
   "source": [
    "Этот кортеж может быть передан функции random.setstate() для восстановления исходного состояния генератора."
   ]
  },
  {
   "attachments": {},
   "cell_type": "markdown",
   "metadata": {},
   "source": [
    "Функция random.setstate() задает внутреннее состояние генератора на основе кортежа с его параметрами, который можно получить с помощью функции random.getstate().\n",
    "Данная функция отличается от random.seed() тем что фиксирует состояние генератора \"здесь и сейчас\", т.е. состояние генератора в тот самый момент, когда оно было получено с помощью функции random.getstate()."
   ]
  },
  {
   "cell_type": "code",
   "execution_count": 5,
   "metadata": {},
   "outputs": [
    {
     "data": {
      "text/plain": [
       "([29, 38, 5, 21, 35, 39, 44, 2, 46], [24, 10, 45, 28, 46, 27, 10, 10, 15])"
      ]
     },
     "execution_count": 5,
     "metadata": {},
     "output_type": "execute_result"
    }
   ],
   "source": [
    "state = random.getstate()\n",
    "random.setstate(state)\n",
    "a = [random.randint(0, 50) for i in range(9)]\n",
    "b = [random.randint(0, 50) for i in range(9)]\n",
    "a, b "
   ]
  },
  {
   "attachments": {},
   "cell_type": "markdown",
   "metadata": {},
   "source": [
    "восстановим состояние и получим те же случайные числа, даже если выйти и снова зайти в интерпретатор"
   ]
  },
  {
   "cell_type": "code",
   "execution_count": 6,
   "metadata": {},
   "outputs": [
    {
     "data": {
      "text/plain": [
       "[29, 38, 5, 21, 35, 39, 44, 2, 46]"
      ]
     },
     "execution_count": 6,
     "metadata": {},
     "output_type": "execute_result"
    }
   ],
   "source": [
    "random.setstate(state)\n",
    "[random.randint(0, 50) for i in range(9)]"
   ]
  },
  {
   "attachments": {},
   "cell_type": "markdown",
   "metadata": {},
   "source": [
    "Функция random.getrandbits() возвращает целое число состоящее из k случайных бит."
   ]
  },
  {
   "cell_type": "code",
   "execution_count": 7,
   "metadata": {},
   "outputs": [
    {
     "data": {
      "text/plain": [
       "(6, 43, 46103, 4063964356)"
      ]
     },
     "execution_count": 7,
     "metadata": {},
     "output_type": "execute_result"
    }
   ],
   "source": [
    "a = random.getrandbits(4)\n",
    "b = random.getrandbits(8)\n",
    "c = random.getrandbits(16)\n",
    "d = random.getrandbits(32)\n",
    "a, b, c, d"
   ]
  },
  {
   "attachments": {},
   "cell_type": "markdown",
   "metadata": {},
   "source": [
    "Благодаря данному методу random.randrange() может работать со сколь угодно большими диапазонами."
   ]
  },
  {
   "attachments": {},
   "cell_type": "markdown",
   "metadata": {},
   "source": [
    "Функция random.randint() возвращает случайное целое число N из интервала a <= N <= b."
   ]
  },
  {
   "cell_type": "code",
   "execution_count": 8,
   "metadata": {},
   "outputs": [
    {
     "data": {
      "text/plain": [
       "(7, 974)"
      ]
     },
     "execution_count": 8,
     "metadata": {},
     "output_type": "execute_result"
    }
   ],
   "source": [
    "a = random.randint(0, 9)\n",
    "b = random.randint(0, 1000)\n",
    "a, b"
   ]
  },
  {
   "attachments": {},
   "cell_type": "markdown",
   "metadata": {},
   "source": [
    "Данная функция является эквивалентной функции random.randrange(a, b+1)."
   ]
  },
  {
   "attachments": {},
   "cell_type": "markdown",
   "metadata": {},
   "source": [
    "Функция random.randrange() возвращает случайное целое число из указанного диапазона (start, stop, step). Это эквивалентно выбору из range(start, stop, step), но фактически не создает объект диапазона.\n",
    "Шаблон позиционного аргумента совпадает с шаблоном класса range(). Ключевые аргументы не должны использоваться, потому что функция может использовать их непредвиденными способами, поэтому передавайте аргументы по их позиции: random.randrange(0, 2) вместо `random.randrange(start=0, stop=2)."
   ]
  },
  {
   "cell_type": "code",
   "execution_count": 9,
   "metadata": {},
   "outputs": [
    {
     "data": {
      "text/plain": [
       "(6, 21, 26)"
      ]
     },
     "execution_count": 9,
     "metadata": {},
     "output_type": "execute_result"
    }
   ],
   "source": [
    "a = random.randrange(10)\n",
    "b = random.randrange(1, 100)\n",
    "c = random.randrange(1, 100, 5)\n",
    "a, b, c"
   ]
  },
  {
   "attachments": {},
   "cell_type": "markdown",
   "metadata": {},
   "source": [
    "Функция random.choice() модуля random возвращает один случайный элемент из непустой последовательности seq.\n",
    "Последовательность seq может быть неизменяемой (кортеж, строка и т.д.) или изменяемая (список). Функция random.choice() поддерживает диапазоны range().\n",
    "Если последовательность seq пуста, то поднимается исключение IndexError.\n",
    "Неупорядоченные последовательности set() и frozenset() не поддерживаются. Множество set()/frozenset() сначала должно быть преобразовано в список или кортеж."
   ]
  },
  {
   "cell_type": "code",
   "execution_count": 10,
   "metadata": {},
   "outputs": [
    {
     "data": {
      "text/plain": [
       "'b'"
      ]
     },
     "execution_count": 10,
     "metadata": {},
     "output_type": "execute_result"
    }
   ],
   "source": [
    "line = 'abcdefg'\n",
    "random.choice(line)"
   ]
  },
  {
   "attachments": {},
   "cell_type": "markdown",
   "metadata": {},
   "source": [
    "Функция shuffle() модуля random перемешивает изменяемую последовательность x на месте. Функция ничего не возвращает, а изменяет непосредственно сам объект последовательности x."
   ]
  },
  {
   "cell_type": "code",
   "execution_count": 11,
   "metadata": {},
   "outputs": [
    {
     "data": {
      "text/plain": [
       "[19, 37, 13, 49, 31, 25, 43, 7, 1]"
      ]
     },
     "execution_count": 11,
     "metadata": {},
     "output_type": "execute_result"
    }
   ],
   "source": [
    "lst = list(range(1, 50, 6))\n",
    "random.shuffle(lst)\n",
    "lst"
   ]
  },
  {
   "attachments": {},
   "cell_type": "markdown",
   "metadata": {},
   "source": [
    "Она способна работать только с изменяемыми последовательностями, такими как списки, т.е. получить перестановку из строки или кортежа не получится. Для перемешивания неизменяемых последовательностей можно использовать функцию random.sample(x, k=len(x))"
   ]
  },
  {
   "attachments": {},
   "cell_type": "markdown",
   "metadata": {},
   "source": [
    "Функция sample() модуля random возвращает список длины k случайных элементов, выбранных из последовательности или множества population. Исходная последовательность population остается неизменной.\n",
    "Используется для случайной выборки без замены.\n",
    "Элементы population не должны быть хешируемыми или уникальными. Если population содержит повторы, то каждый случай является возможным выбором в результирующем списке."
   ]
  },
  {
   "cell_type": "code",
   "execution_count": 12,
   "metadata": {},
   "outputs": [
    {
     "data": {
      "text/plain": [
       "['б', 'к', 'а', 'б', 'а']"
      ]
     },
     "execution_count": 12,
     "metadata": {},
     "output_type": "execute_result"
    }
   ],
   "source": [
    "s = 'абракадабра'\n",
    "random.sample(s, 5)"
   ]
  },
  {
   "attachments": {},
   "cell_type": "markdown",
   "metadata": {},
   "source": [
    "Повторяющиеся элементы можно указать по одному или с помощью необязательного ключевого аргумента counts (Добавлен в Python 3.9). Например:"
   ]
  },
  {
   "cell_type": "code",
   "execution_count": 13,
   "metadata": {},
   "outputs": [
    {
     "data": {
      "text/plain": [
       "(['red', 'red', 'red', 'blue', 'red'], ['red', 'blue', 'red', 'red', 'blue'])"
      ]
     },
     "execution_count": 13,
     "metadata": {},
     "output_type": "execute_result"
    }
   ],
   "source": [
    "a = random.sample(['red', 'blue'], counts=[4, 2], k=5)\n",
    "# эквивалентно\n",
    "b = random.sample(['red', 'red', 'red', 'red', 'blue', 'blue'], k=5)\n",
    "a, b "
   ]
  },
  {
   "attachments": {},
   "cell_type": "markdown",
   "metadata": {},
   "source": [
    "Случайное число от 0 до 1"
   ]
  },
  {
   "cell_type": "code",
   "execution_count": 14,
   "metadata": {},
   "outputs": [
    {
     "data": {
      "text/plain": [
       "0.8793731884001769"
      ]
     },
     "execution_count": 14,
     "metadata": {},
     "output_type": "execute_result"
    }
   ],
   "source": [
    "random.random()"
   ]
  },
  {
   "attachments": {},
   "cell_type": "markdown",
   "metadata": {},
   "source": [
    "Функция random.uniform() возвращает случайное число с плавающей запятой N из интервала [a,b] если a<b или из интервала [b,a] если b<a."
   ]
  },
  {
   "cell_type": "code",
   "execution_count": 15,
   "metadata": {},
   "outputs": [
    {
     "data": {
      "text/plain": [
       "(17.164368068333253, -0.13644920689925089)"
      ]
     },
     "execution_count": 15,
     "metadata": {},
     "output_type": "execute_result"
    }
   ],
   "source": [
    "a = random.uniform(17, 20)\n",
    "b = random.uniform(1, -2)\n",
    "a, b "
   ]
  },
  {
   "attachments": {},
   "cell_type": "markdown",
   "metadata": {},
   "source": [
    "Функция random.triangular() возвращает случайное вещественное число из треугольного вероятностного распределения.\n",
    "По умолчанию, минимальное low и максимальное high значения, левый и правый угол, равны 0 и 1, а координата вершины mode находится по середине, т.е. равна 0.5:\n"
   ]
  },
  {
   "cell_type": "code",
   "execution_count": 16,
   "metadata": {},
   "outputs": [
    {
     "data": {
      "text/plain": [
       "(0.4958385507209466,\n",
       " [0.11, 0.46, 0.78, 0.24, 0.55, 0.25, 0.54, 0.77, 0.32, 0.06])"
      ]
     },
     "execution_count": 16,
     "metadata": {},
     "output_type": "execute_result"
    }
   ],
   "source": [
    "a = random.triangular()\n",
    "b = [round(random.triangular(), 2) for i in range(10)]\n",
    "a, b "
   ]
  },
  {
   "attachments": {},
   "cell_type": "markdown",
   "metadata": {},
   "source": [
    "Функция random.betavariate() возвращает случайное вещественное число из бета-распределения.\n",
    "Аргументы alpha и beta должны быть указаны обязательно, так как не имеют значений по умолчанию, и должны быть строго больше 0:\n"
   ]
  },
  {
   "cell_type": "code",
   "execution_count": 17,
   "metadata": {},
   "outputs": [
    {
     "name": "stdout",
     "output_type": "stream",
     "text": [
      "0.04, 0.24, 0.04, 0.27, 0.11, 0.89, 0.72, 0.03, 0.36, 0.31, "
     ]
    }
   ],
   "source": [
    "random.betavariate(alpha = 1, beta = 2.2)\n",
    "for i in range(10):\n",
    "    x = random.betavariate(alpha = 1, beta = 2.2)\n",
    "    x = round(x, 2)\n",
    "    print(x, end = ', ')"
   ]
  },
  {
   "attachments": {},
   "cell_type": "markdown",
   "metadata": {},
   "source": [
    "Функция random.expovariate() возвращает случайное вещественное число из экспоненциального (показательного) распределения."
   ]
  },
  {
   "cell_type": "code",
   "execution_count": 18,
   "metadata": {},
   "outputs": [
    {
     "name": "stdout",
     "output_type": "stream",
     "text": [
      "0.57, 0.01, 1.07, 0.27, 0.38, 0.16, 0.39, 0.26, 0.06, 0.66, "
     ]
    }
   ],
   "source": [
    "random.expovariate(lambd = 1.5)\n",
    "for i in range(10):\n",
    "    x = random.expovariate(lambd = 1.5)\n",
    "    x = round(x, 2)\n",
    "    print(x, end = ', ')"
   ]
  },
  {
   "attachments": {},
   "cell_type": "markdown",
   "metadata": {},
   "source": [
    "Функция random.gammavariate() возвращает случайное вещественное число из гамма-распределения.Параметры alpha и beta должны быть обязательно указаны, так как не имеют значений по умолчанию, и должны быть строго больше 0:\n"
   ]
  },
  {
   "cell_type": "code",
   "execution_count": 19,
   "metadata": {},
   "outputs": [
    {
     "name": "stdout",
     "output_type": "stream",
     "text": [
      "1.86, 6.37, 5.59, 5.78, 3.36, 4.08, 6.99, 5.33, 6.77, 2.21, "
     ]
    }
   ],
   "source": [
    "random.gammavariate(alpha = 9, beta = 0.5)\n",
    "for i in range(10):\n",
    "    x = random.gammavariate(alpha = 9, beta = 0.5)\n",
    "    x = round(x, 2)\n",
    "    print(x, end = ', ')"
   ]
  },
  {
   "attachments": {},
   "cell_type": "markdown",
   "metadata": {},
   "source": [
    "Функция random.gauss() возвращает случайное вещественное число из распределения Гауса. По сути, выполняет то же самое что и random.normalvariate(), но немного быстрее:"
   ]
  },
  {
   "cell_type": "code",
   "execution_count": 20,
   "metadata": {},
   "outputs": [
    {
     "data": {
      "text/plain": [
       "0.22579827543142583"
      ]
     },
     "execution_count": 20,
     "metadata": {},
     "output_type": "execute_result"
    }
   ],
   "source": [
    "random.gauss(mu = 0, sigma = 0.2)"
   ]
  },
  {
   "attachments": {},
   "cell_type": "markdown",
   "metadata": {},
   "source": [
    "Функция random.normalvariate() возвращает случайное вещественное число из нормального распределения."
   ]
  },
  {
   "cell_type": "code",
   "execution_count": 21,
   "metadata": {},
   "outputs": [
    {
     "name": "stdout",
     "output_type": "stream",
     "text": [
      "-0.29, 0.12, -1.6, 0.36, -0.28, 0.73, 0.8, 1.62, 1.29, 0.06, "
     ]
    }
   ],
   "source": [
    "random.normalvariate(mu = -1, sigma = -1)\n",
    "for i in range(10):\n",
    "    x = random.normalvariate(mu = 0, sigma = 1)\n",
    "    x = round(x, 2)\n",
    "    print(x, end = ', ')"
   ]
  },
  {
   "attachments": {},
   "cell_type": "markdown",
   "metadata": {},
   "source": [
    "Функция random.lognormvariate() возвращает случайное вещественное число из логнормального распределения.Аргумент mu - может быть любым, а вот sigma - должна быть строго больше 0."
   ]
  },
  {
   "cell_type": "code",
   "execution_count": 22,
   "metadata": {},
   "outputs": [
    {
     "name": "stdout",
     "output_type": "stream",
     "text": [
      "1.86, 0.84, 0.79, 0.56, 2.82, 4.33, 1.09, 1.71, 0.29, 1.53, "
     ]
    }
   ],
   "source": [
    "random.lognormvariate(mu = 0, sigma = 1)\n",
    "for i in range(10):\n",
    "    x = random.lognormvariate(mu = 0, sigma = 1)\n",
    "    x = round(x, 2)\n",
    "    print(x, end = ', ')"
   ]
  },
  {
   "attachments": {},
   "cell_type": "markdown",
   "metadata": {},
   "source": [
    "Функция random.vonmisesvariate() возвращает случайный угол из интервала [0, 2*pi] значение которого подчиняется закону распределения фон Мизеса. Аргумент mu - средний угол выраженный в радианах из интервала [0, 2*pi], kappa должен быть больше либо равен 0."
   ]
  },
  {
   "cell_type": "code",
   "execution_count": 23,
   "metadata": {},
   "outputs": [
    {
     "name": "stdout",
     "output_type": "stream",
     "text": [
      "4.44, 2.52, 1.88, 4.31, 2.45, 1.94, 3.73, 3.1, 5.02, 4.29, "
     ]
    }
   ],
   "source": [
    "random.vonmisesvariate(3.14, 1)\n",
    "for i in range(10):\n",
    "    x = random.vonmisesvariate(3.14, 1)\n",
    "    x = round(x, 2)\n",
    "    print(x, end = ', ')"
   ]
  },
  {
   "attachments": {},
   "cell_type": "markdown",
   "metadata": {},
   "source": [
    "Функция random.paretovariate() возвращает случайное вещественное число из распределения Парето."
   ]
  },
  {
   "cell_type": "code",
   "execution_count": 24,
   "metadata": {},
   "outputs": [
    {
     "name": "stdout",
     "output_type": "stream",
     "text": [
      "1.12, 1.54, 1.3, 4.55, 1.24, 1.28, 1.12, 1.14, 16.16, 42.01, "
     ]
    }
   ],
   "source": [
    "random.paretovariate(1)\n",
    "for i in range(10):\n",
    "    x = random.paretovariate(1)\n",
    "    x = round(x, 2)\n",
    "    print(x, end = ', ')"
   ]
  },
  {
   "attachments": {},
   "cell_type": "markdown",
   "metadata": {},
   "source": [
    "Функция random.weibullvariate() возвращает случайное вещественное число из распределения Вейбулла."
   ]
  },
  {
   "cell_type": "code",
   "execution_count": 25,
   "metadata": {},
   "outputs": [
    {
     "name": "stdout",
     "output_type": "stream",
     "text": [
      "1.22, 0.74, 0.82, 0.6, 1.0, 0.42, 0.44, 0.81, 0.36, 0.69, "
     ]
    }
   ],
   "source": [
    "random.weibullvariate(1, 1.5)\n",
    "for i in range(10):\n",
    "    x = random.weibullvariate(1, 1.5)\n",
    "    x = round(x, 2)\n",
    "    print(x, end = ', ')"
   ]
  }
 ],
 "metadata": {
  "kernelspec": {
   "display_name": "Python 3",
   "language": "python",
   "name": "python3"
  },
  "language_info": {
   "codemirror_mode": {
    "name": "ipython",
    "version": 3
   },
   "file_extension": ".py",
   "mimetype": "text/x-python",
   "name": "python",
   "nbconvert_exporter": "python",
   "pygments_lexer": "ipython3",
   "version": "3.10.9"
  },
  "orig_nbformat": 4,
  "vscode": {
   "interpreter": {
    "hash": "71bd3c46ae24e4516ad7e47f61b5de6bd4e932ec8f478b50d27c1fdf910d3185"
   }
  }
 },
 "nbformat": 4,
 "nbformat_minor": 2
}
